{
 "cells": [
  {
   "cell_type": "code",
   "execution_count": 125,
   "metadata": {},
   "outputs": [],
   "source": [
    "from requests_html import HTMLSession\n",
    "from bs4 import BeautifulSoup\n",
    "import pandas as pd"
   ]
  },
  {
   "cell_type": "code",
   "execution_count": 143,
   "metadata": {},
   "outputs": [
    {
     "name": "stdout",
     "output_type": "stream",
     "text": [
      "<Response [200]>\n"
     ]
    }
   ],
   "source": [
    "url = 'https://www.amazon.co.uk/gp/bestsellers/books'\n",
    "s = HTMLSession()\n",
    "source = s.get(url)\n",
    "soup = BeautifulSoup(source.content,'html.parser')\n",
    "books = soup.find_all('div',{'id':'gridItemRoot'})\n",
    "print(source)"
   ]
  },
  {
   "cell_type": "code",
   "execution_count": 144,
   "metadata": {},
   "outputs": [],
   "source": [
    "master_list = []\n",
    "\n",
    "for book in books:\n",
    "  data_dict = {}\n",
    "  data_dict['Title'] = book.find('div',{'class':'_cDEzb_p13n-sc-css-line-clamp-1_1Fn1y'}).text.split(':')[0]\n",
    "  data_dict['Author'] = book.find('div',{'class':'a-size-small'}).text\n",
    "  try:\n",
    "    data_dict['Rate'] = book.find('span',{'class':'a-icon-alt'}).text\n",
    "  except:\n",
    "    data_dict['Rate'] = 'No rate found...'\n",
    "  try:\n",
    "    data_dict['Rate Count'] = int(book.find('div',{'class':'a-icon-row'}).find('span',{'class':'a-size-small'}).text)\n",
    "  except:\n",
    "    data_dict['Rate Count'] = 'No rate found...'\n",
    "  try:\n",
    "    data_dict['Paper Type'] = book.find('span',{'class','a-size-small a-color-secondary a-text-normal'}).text\n",
    "  except:\n",
    "    data_dict['Paper Type'] = 'No type found...'\n",
    "\n",
    "  data_dict['Price(£)'] = book.find('span',{'class','a-size-base'}).text.replace('£','')\n",
    "  master_list.append(data_dict)\n",
    "  "
   ]
  },
  {
   "cell_type": "code",
   "execution_count": 145,
   "metadata": {},
   "outputs": [],
   "source": [
    "amazon_df = pd.DataFrame(master_list)\n",
    "amazon_df.to_csv('amazon_output.csv',index=False)"
   ]
  },
  {
   "cell_type": "code",
   "execution_count": null,
   "metadata": {},
   "outputs": [],
   "source": []
  }
 ],
 "metadata": {
  "kernelspec": {
   "display_name": "Python 3.9.12 ('base')",
   "language": "python",
   "name": "python3"
  },
  "language_info": {
   "codemirror_mode": {
    "name": "ipython",
    "version": 3
   },
   "file_extension": ".py",
   "mimetype": "text/x-python",
   "name": "python",
   "nbconvert_exporter": "python",
   "pygments_lexer": "ipython3",
   "version": "3.9.12"
  },
  "orig_nbformat": 4,
  "vscode": {
   "interpreter": {
    "hash": "821ad51766bdaf798bb428f1d8429ad29e2186964e31d284b6ccd267fdc001fa"
   }
  }
 },
 "nbformat": 4,
 "nbformat_minor": 2
}
