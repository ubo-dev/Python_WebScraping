{
 "cells": [
  {
   "cell_type": "code",
   "execution_count": 44,
   "metadata": {},
   "outputs": [],
   "source": [
    "from selenium import webdriver\n",
    "from selenium.webdriver.common.keys import Keys\n",
    "from webdriver_manager.chrome import ChromeDriverManager\n",
    "import time\n",
    "from bs4 import BeautifulSoup"
   ]
  },
  {
   "cell_type": "code",
   "execution_count": 45,
   "metadata": {},
   "outputs": [],
   "source": [
    "driver = webdriver.Chrome(ChromeDriverManager().install())\n",
    "\n",
    "driver.get('https://www.youtube.com/user/jacksfilms/videos')\n",
    "\n",
    "\n",
    "for _ in range(56):\n",
    "  driver.find_element_by_tag_name('body').send_keys(Keys.END)\n",
    "  time.sleep(0.5)\n",
    "\n",
    "html = driver.page_source\n",
    "soup = BeautifulSoup(html,'html.parser')\n",
    "\n",
    "videos = soup.find_all('div',{'id':'dismissible'})"
   ]
  },
  {
   "cell_type": "code",
   "execution_count": 46,
   "metadata": {},
   "outputs": [],
   "source": [
    "\n",
    "master_list = []\n",
    "\n",
    "for video in videos:\n",
    "  data_dict = {}\n",
    "  data_dict['title'] = video.find('a',{'id':'video-title'}).text\n",
    "  data_dict['video_url'] = 'https://www.youtube.com/' + video.find('a',{'id':'video-title'})['href']\n",
    "  meta = video.find('div',{'id':'metadata-line'}).find_all('span')\n",
    "  data_dict['views'] = meta[0].text\n",
    "  data_dict['video_age'] = meta[1].text\n",
    "  master_list.append(data_dict)\n"
   ]
  },
  {
   "cell_type": "code",
   "execution_count": 47,
   "metadata": {},
   "outputs": [],
   "source": [
    "import pandas as pd"
   ]
  },
  {
   "cell_type": "code",
   "execution_count": 48,
   "metadata": {},
   "outputs": [],
   "source": [
    "youtube_df = pd.DataFrame(master_list)"
   ]
  },
  {
   "cell_type": "code",
   "execution_count": 49,
   "metadata": {},
   "outputs": [],
   "source": [
    "def convert_views(df):\n",
    "  if 'K' in df['views']:\n",
    "    views = float(df['views'].split('K')[0])*1000\n",
    "    return views\n",
    "  elif 'M' in df['views']:\n",
    "    views = float(df['views'].split('M')[0])*1000000\n",
    "    return views"
   ]
  },
  {
   "cell_type": "code",
   "execution_count": 50,
   "metadata": {},
   "outputs": [],
   "source": [
    "youtube_df['CLEAN_VIEWS'] = youtube_df.apply(convert_views,axis=1)\n",
    "youtube_df['CLEAN_VIEWS'] = youtube_df['CLEAN_VIEWS'].astype(int)"
   ]
  },
  {
   "cell_type": "code",
   "execution_count": 51,
   "metadata": {},
   "outputs": [],
   "source": [
    "youtube_df.to_csv('output_youtube.csv',index=False)"
   ]
  }
 ],
 "metadata": {
  "kernelspec": {
   "display_name": "Python 3.9.12 ('base')",
   "language": "python",
   "name": "python3"
  },
  "language_info": {
   "codemirror_mode": {
    "name": "ipython",
    "version": 3
   },
   "file_extension": ".py",
   "mimetype": "text/x-python",
   "name": "python",
   "nbconvert_exporter": "python",
   "pygments_lexer": "ipython3",
   "version": "3.9.12"
  },
  "orig_nbformat": 4,
  "vscode": {
   "interpreter": {
    "hash": "821ad51766bdaf798bb428f1d8429ad29e2186964e31d284b6ccd267fdc001fa"
   }
  }
 },
 "nbformat": 4,
 "nbformat_minor": 2
}
