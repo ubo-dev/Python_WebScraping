{
 "cells": [
  {
   "cell_type": "code",
   "execution_count": 1,
   "metadata": {},
   "outputs": [],
   "source": [
    "from bs4 import BeautifulSoup\n",
    "import requests\n",
    "import pandas as pd"
   ]
  },
  {
   "cell_type": "code",
   "execution_count": 2,
   "metadata": {},
   "outputs": [
    {
     "name": "stdout",
     "output_type": "stream",
     "text": [
      "<Response [200]>\n"
     ]
    }
   ],
   "source": [
    "url = 'https://www.imdb.com/chart/top/?ref_=nv_mv_250'\n",
    "print(requests.get(url))\n"
   ]
  },
  {
   "cell_type": "code",
   "execution_count": 3,
   "metadata": {},
   "outputs": [],
   "source": [
    "source_code = requests.get(url)\n",
    "html = source_code.content\n",
    "soup = BeautifulSoup(html,'html.parser')"
   ]
  },
  {
   "cell_type": "code",
   "execution_count": 4,
   "metadata": {},
   "outputs": [],
   "source": [
    "movies = soup.find('tbody',{'class':'lister-list'}).find_all('tr')\n",
    "master_list = []\n",
    "for movie in movies:\n",
    "  data_dict = {}\n",
    "  data_dict['Title'] = movie.find('td',{'class':'titleColumn'}).find('a').text\n",
    "  data_dict['Year'] = movie.find('span',{'class':'secondaryInfo'}).text.replace('(','').replace(')','')\n",
    "  data_dict['Director'] = movie.find('td',{'class':'titleColumn'}).find('a').get('title').split('(')[0]\n",
    "  data_dict['Lead Actors'] = movie.find('td',{'class':'titleColumn'}).find('a').get('title').split('), ')[1]\n",
    "  data_dict['Rating'] = movie.find('td',{'class':'ratingColumn imdbRating'}).find('strong').get('title').split(' ')[0]\n",
    "  data_dict['Rating Count'] = movie.find('td',{'class':'ratingColumn imdbRating'}).find('strong').get('title').split(' ')[3]\n",
    "\n",
    "  master_list.append(data_dict)  \n",
    "  "
   ]
  },
  {
   "cell_type": "code",
   "execution_count": 5,
   "metadata": {},
   "outputs": [],
   "source": [
    "imdb_df = pd.DataFrame(master_list)\n",
    "imdb_df.to_csv('output_imdb.csv',index=False)"
   ]
  },
  {
   "cell_type": "code",
   "execution_count": null,
   "metadata": {},
   "outputs": [],
   "source": []
  }
 ],
 "metadata": {
  "kernelspec": {
   "display_name": "Python 3.9.12 ('base')",
   "language": "python",
   "name": "python3"
  },
  "language_info": {
   "codemirror_mode": {
    "name": "ipython",
    "version": 3
   },
   "file_extension": ".py",
   "mimetype": "text/x-python",
   "name": "python",
   "nbconvert_exporter": "python",
   "pygments_lexer": "ipython3",
   "version": "3.9.12"
  },
  "orig_nbformat": 4,
  "vscode": {
   "interpreter": {
    "hash": "821ad51766bdaf798bb428f1d8429ad29e2186964e31d284b6ccd267fdc001fa"
   }
  }
 },
 "nbformat": 4,
 "nbformat_minor": 2
}
